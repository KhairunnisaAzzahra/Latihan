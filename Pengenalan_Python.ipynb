{
  "cells": [
    {
      "cell_type": "markdown",
      "metadata": {
        "id": "3i_eOt9Z_Xfi"
      },
      "source": [
        "## Pengenalan Awal"
      ]
    },
    {
      "cell_type": "markdown",
      "metadata": {
        "id": "kp46SPsC_Xfo"
      },
      "source": [
        "> Python adalah salah satu bahasa tingkat tinggi *(high-level language)* yang mudah dimengerti karena mirip dengan bahasa inggris sehari-hari. Contoh lain bahasa tingkat tinggi pemrograman adalah C, C++, Perl dan Java. Python sangat mudah digunakan karena gratis *(Open Source)*, terbuka bagi siapa saja dan memiliki modul *(library)* sangat banyak. Inilah mengapa Python sangatlah populer. "
      ]
    },
    {
      "cell_type": "markdown",
      "metadata": {
        "id": "HER8ijZH_Xfp"
      },
      "source": [
        "> Terdapat dua versi Python yang masih sering digunakan yaitu python 2.x dan python 3.x. Keduanya mempunyai kelebihan dan kekurangan yang sama-sama bisa digunakan sebagai pemrograman *data science* dan lainnya.Dalam prakteknya, pengguna dapat memilih diantara kedua versi tersebut. Pada praktikum ini akan digunakan python 3.x untuk menjalankan algoritma pemrograman. "
      ]
    },
    {
      "cell_type": "markdown",
      "metadata": {
        "id": "iRXiCn_U_Xfq"
      },
      "source": [
        " > Python dapat diinstal di banyak platform salah satunya adalah sistem operasi windows. Tetapi instalasi tersebut tidak mudah, dibutuhkan memasang dan mengkonﬁgurasi banyak hal, ini akan menjadi masalah bagi seorang programer pemula. Untuk mengatasinya,dapat digunakan Anaconda,sebuah distribusi Python *(python distribution)*,yang memiliki banyak package,tool dan setup sudah siap digunakan. Cara menginstal anaconda dapat dilihat dilink https://docs.continuum.io/anaconda/install/"
      ]
    },
    {
      "cell_type": "markdown",
      "metadata": {
        "id": "Gyv9GJwe_Xft"
      },
      "source": [
        "### Program Pertama"
      ]
    },
    {
      "cell_type": "code",
      "execution_count": null,
      "metadata": {
        "id": "ZhOU0NGW_Xft",
        "outputId": "83f99843-4bb3-4100-e916-05b839e29ab7",
        "colab": {
          "base_uri": "https://localhost:8080/"
        }
      },
      "outputs": [
        {
          "output_type": "stream",
          "name": "stdout",
          "text": [
            "50\n",
            "Hello\n",
            "True\n"
          ]
        }
      ],
      "source": [
        "print(50)\n",
        "print('Hello')\n",
        "print(True)"
      ]
    },
    {
      "cell_type": "markdown",
      "metadata": {
        "id": "dN1uQ-3s_Xfv"
      },
      "source": [
        "### Tipe Data & Variabel"
      ]
    },
    {
      "cell_type": "code",
      "execution_count": null,
      "metadata": {
        "id": "krJNH3uA_Xfw",
        "outputId": "2474be7a-1feb-43b8-8c3d-932aaa494ed6",
        "colab": {
          "base_uri": "https://localhost:8080/"
        }
      },
      "outputs": [
        {
          "output_type": "stream",
          "name": "stdout",
          "text": [
            "1\n",
            "10\n",
            "100\n"
          ]
        }
      ],
      "source": [
        "# Integer\n",
        "print(1)\n",
        "print(10)\n",
        "print(100)"
      ]
    },
    {
      "cell_type": "code",
      "execution_count": null,
      "metadata": {
        "id": "2XglooIG_Xfw",
        "outputId": "7d317940-2c29-4e13-a421-afad99ef0998",
        "colab": {
          "base_uri": "https://localhost:8080/"
        }
      },
      "outputs": [
        {
          "output_type": "stream",
          "name": "stdout",
          "text": [
            "1.5\n",
            "0.7\n"
          ]
        }
      ],
      "source": [
        "# Float\n",
        "print(1.5)\n",
        "print(0.7)"
      ]
    },
    {
      "cell_type": "code",
      "execution_count": null,
      "metadata": {
        "id": "cDiuINzU_Xfx",
        "outputId": "be01ff83-13cc-4f75-cc87-138cdca54302",
        "colab": {
          "base_uri": "https://localhost:8080/"
        }
      },
      "outputs": [
        {
          "output_type": "execute_result",
          "data": {
            "text/plain": [
              "int"
            ]
          },
          "metadata": {},
          "execution_count": 4
        }
      ],
      "source": [
        "a = 10\n",
        "b = 2.5\n",
        "type(a)"
      ]
    },
    {
      "cell_type": "code",
      "execution_count": null,
      "metadata": {
        "id": "M-2I9kgJ_Xfx",
        "outputId": "05762665-b74b-4e33-8eba-1b7240dca93c",
        "colab": {
          "base_uri": "https://localhost:8080/"
        }
      },
      "outputs": [
        {
          "output_type": "execute_result",
          "data": {
            "text/plain": [
              "float"
            ]
          },
          "metadata": {},
          "execution_count": 5
        }
      ],
      "source": [
        "type(b)"
      ]
    },
    {
      "cell_type": "code",
      "execution_count": null,
      "metadata": {
        "id": "3UEheCzX_Xfy",
        "outputId": "2783a66b-43fb-44a6-e5e1-b01ba72ff9cc",
        "colab": {
          "base_uri": "https://localhost:8080/"
        }
      },
      "outputs": [
        {
          "output_type": "stream",
          "name": "stdout",
          "text": [
            "12.5\n"
          ]
        }
      ],
      "source": [
        "c = a + b\n",
        "print(c)"
      ]
    },
    {
      "cell_type": "code",
      "execution_count": null,
      "metadata": {
        "id": "Yd5Ntc6q_Xfz",
        "outputId": "966856f4-6976-4bc2-ab78-efedb16e21ba",
        "colab": {
          "base_uri": "https://localhost:8080/"
        }
      },
      "outputs": [
        {
          "output_type": "execute_result",
          "data": {
            "text/plain": [
              "float"
            ]
          },
          "metadata": {},
          "execution_count": 7
        }
      ],
      "source": [
        "type(c)"
      ]
    },
    {
      "cell_type": "code",
      "execution_count": null,
      "metadata": {
        "id": "qMvQ6aYe_Xf1",
        "outputId": "58287c64-8c70-4a0b-d761-9a7207ac2c91",
        "colab": {
          "base_uri": "https://localhost:8080/"
        }
      },
      "outputs": [
        {
          "output_type": "stream",
          "name": "stdout",
          "text": [
            "he3874rdh3784956&^%^%&^%@&^%&E^\n"
          ]
        }
      ],
      "source": [
        "# String\n",
        "\n",
        "print(\"he3874rdh3784956&^%^%&^%@&^%&E^\")"
      ]
    },
    {
      "cell_type": "code",
      "execution_count": null,
      "metadata": {
        "id": "58rK9fQH_Xf2",
        "outputId": "5c06ee1f-d7f1-44d3-cff1-09f19afa6fc9",
        "colab": {
          "base_uri": "https://localhost:8080/",
          "height": 35
        }
      },
      "outputs": [
        {
          "output_type": "execute_result",
          "data": {
            "text/plain": [
              "'E'"
            ],
            "application/vnd.google.colaboratory.intrinsic+json": {
              "type": "string"
            }
          },
          "metadata": {},
          "execution_count": 9
        }
      ],
      "source": [
        "my_string = \"HELLO\"\n",
        "my_string[1]"
      ]
    },
    {
      "cell_type": "code",
      "execution_count": null,
      "metadata": {
        "id": "kWCOs2A2_Xf2",
        "outputId": "fb07c809-c6e4-4101-db5e-2fc207ddc532",
        "colab": {
          "base_uri": "https://localhost:8080/"
        }
      },
      "outputs": [
        {
          "output_type": "stream",
          "name": "stdout",
          "text": [
            "Hello\n"
          ]
        }
      ],
      "source": [
        "print(\"Hello\")"
      ]
    },
    {
      "cell_type": "code",
      "execution_count": null,
      "metadata": {
        "scrolled": true,
        "id": "DKMDpE4t_Xf2",
        "outputId": "4a7a5a79-1407-44b2-c0df-55cbeccd86f5",
        "colab": {
          "base_uri": "https://localhost:8080/"
        }
      },
      "outputs": [
        {
          "output_type": "stream",
          "name": "stdout",
          "text": [
            "shgdajhsgdhja\n",
            "sgdsk\n",
            "audjaksdjkas\n",
            "ksgdahj\n",
            "\n"
          ]
        }
      ],
      "source": [
        "print('''shgdajhsgdhja\n",
        "sgdsk\n",
        "audjaksdjkas\n",
        "ksgdahj\n",
        "''')"
      ]
    },
    {
      "cell_type": "markdown",
      "source": [],
      "metadata": {
        "id": "Po9AaJwySDLv"
      }
    },
    {
      "cell_type": "code",
      "execution_count": null,
      "metadata": {
        "id": "tl1EFVO7_Xf3",
        "outputId": "0822498b-d5a7-4c98-d237-3c2447d7e506",
        "colab": {
          "base_uri": "https://localhost:8080/"
        }
      },
      "outputs": [
        {
          "output_type": "stream",
          "name": "stdout",
          "text": [
            "Silahkan masukan umur anda 19\n",
            "Nama saya Jojo dan saya berumur 19 tahun\n"
          ]
        }
      ],
      "source": [
        "# Input\n",
        "age = int(input(\"Silahkan masukan umur anda \"))\n",
        "print(\"Nama saya {} dan saya berumur {} tahun\".format(\"Jojo\",age))"
      ]
    },
    {
      "cell_type": "code",
      "source": [
        "age = int(input(\"Silahkan masukan umur anda \"))\n",
        "print(f\"Nama saya {'Tom'} dan saya berumur {age} tahun\")"
      ],
      "metadata": {
        "colab": {
          "base_uri": "https://localhost:8080/"
        },
        "id": "3H1hh6ha2p41",
        "outputId": "bfd9736e-d6b7-44fb-e23c-8f7983c6fe96"
      },
      "execution_count": null,
      "outputs": [
        {
          "output_type": "stream",
          "name": "stdout",
          "text": [
            "Silahkan masukan umur anda 19\n",
            "Nama saya Tom dan saya berumur 19 tahun\n"
          ]
        }
      ]
    },
    {
      "cell_type": "markdown",
      "metadata": {
        "id": "cDh2bVuH_Xf6"
      },
      "source": [
        "### List"
      ]
    },
    {
      "cell_type": "code",
      "execution_count": null,
      "metadata": {
        "id": "jujf5e3j_Xf6",
        "outputId": "31a64aea-c728-41f1-b2b7-7db2ae8f5d6e",
        "colab": {
          "base_uri": "https://localhost:8080/"
        }
      },
      "outputs": [
        {
          "output_type": "stream",
          "name": "stdout",
          "text": [
            "[1, 2, 3, 4, 4, 5, 5, 6, 7, 8]\n",
            "['A', 's', 'sd', 'sads', 'sad']\n",
            "[True, False, False]\n"
          ]
        }
      ],
      "source": [
        "a = [1,2,3,4,4,5,5,6,7,8]\n",
        "b = [\"A\",\"s\",\"sd\",\"sads\",\"sad\"]\n",
        "c = [True, False, 5>6]\n",
        "print(a)\n",
        "print(b)\n",
        "print(c)"
      ]
    },
    {
      "cell_type": "code",
      "execution_count": null,
      "metadata": {
        "id": "CcHo0XJf_Xf7"
      },
      "outputs": [],
      "source": [
        "new_list = [\"Tom\", 18, \"Ohio\"]"
      ]
    },
    {
      "cell_type": "code",
      "execution_count": null,
      "metadata": {
        "id": "2vSEojqW_Xf7",
        "outputId": "026494b0-1005-4873-dc80-758d102a50e0",
        "colab": {
          "base_uri": "https://localhost:8080/",
          "height": 35
        }
      },
      "outputs": [
        {
          "output_type": "execute_result",
          "data": {
            "text/plain": [
              "'Ohio'"
            ],
            "application/vnd.google.colaboratory.intrinsic+json": {
              "type": "string"
            }
          },
          "metadata": {},
          "execution_count": 18
        }
      ],
      "source": [
        "# list accessing\n",
        "new_list[2]"
      ]
    },
    {
      "cell_type": "code",
      "execution_count": null,
      "metadata": {
        "id": "TLUWjzb7_Xf7",
        "outputId": "8ec4ebfc-1b1a-405e-ec41-8100e0d64df6",
        "colab": {
          "base_uri": "https://localhost:8080/"
        }
      },
      "outputs": [
        {
          "output_type": "stream",
          "name": "stdout",
          "text": [
            "My name is Tom, i am 18 years old and i live in Ohio\n"
          ]
        }
      ],
      "source": [
        "print(\"My name is {}, i am {} years old and i live in {}\".format(new_list[0],new_list[1],new_list[2]))"
      ]
    },
    {
      "cell_type": "code",
      "execution_count": null,
      "metadata": {
        "id": "NL0ESspj_Xf8",
        "outputId": "562b1c75-9d0b-487a-bb04-4a5f097c617a",
        "colab": {
          "base_uri": "https://localhost:8080/",
          "height": 35
        }
      },
      "outputs": [
        {
          "output_type": "execute_result",
          "data": {
            "text/plain": [
              "'Ohio'"
            ],
            "application/vnd.google.colaboratory.intrinsic+json": {
              "type": "string"
            }
          },
          "metadata": {},
          "execution_count": 23
        }
      ],
      "source": [
        "# Negative Indexing\n",
        "new_list[-1]"
      ]
    },
    {
      "cell_type": "code",
      "execution_count": null,
      "metadata": {
        "id": "4BC5T-aQ_Xf8",
        "outputId": "c3ffab51-ca52-4eca-c89d-33ca197b533e",
        "colab": {
          "base_uri": "https://localhost:8080/"
        }
      },
      "outputs": [
        {
          "output_type": "execute_result",
          "data": {
            "text/plain": [
              "[0, 1, 2, 3, 4]"
            ]
          },
          "metadata": {},
          "execution_count": 24
        }
      ],
      "source": [
        "# list slicing\n",
        "my_list=[0,1,2,3,4,5,6,7,8,9]\n",
        "my_list[0:5]"
      ]
    },
    {
      "cell_type": "code",
      "execution_count": null,
      "metadata": {
        "id": "g0I_DXSD_Xf9",
        "outputId": "b87f1ccc-757b-4a0a-ce61-2ad43b32f5ea",
        "colab": {
          "base_uri": "https://localhost:8080/"
        }
      },
      "outputs": [
        {
          "output_type": "execute_result",
          "data": {
            "text/plain": [
              "[0, 1, 2, 3, 4, 5, 6]"
            ]
          },
          "metadata": {},
          "execution_count": 25
        }
      ],
      "source": [
        "my_list[:7]"
      ]
    },
    {
      "cell_type": "code",
      "execution_count": null,
      "metadata": {
        "id": "J6_6taQk_Xf9",
        "outputId": "3ca59635-a92c-46fe-d9a4-6e8d7fbdc5dd",
        "colab": {
          "base_uri": "https://localhost:8080/"
        }
      },
      "outputs": [
        {
          "output_type": "execute_result",
          "data": {
            "text/plain": [
              "[2, 3, 4, 5, 6, 7, 8, 9]"
            ]
          },
          "metadata": {},
          "execution_count": 26
        }
      ],
      "source": [
        "my_list[2:]"
      ]
    },
    {
      "cell_type": "code",
      "execution_count": null,
      "metadata": {
        "id": "pWMlD7QJ_Xf9",
        "outputId": "2da7e970-b4be-4529-8f34-ee7d7cdf5617",
        "colab": {
          "base_uri": "https://localhost:8080/"
        }
      },
      "outputs": [
        {
          "output_type": "execute_result",
          "data": {
            "text/plain": [
              "[2, 3, 4, 5, 6, 7, 8]"
            ]
          },
          "metadata": {},
          "execution_count": 27
        }
      ],
      "source": [
        "my_list[2:-1]"
      ]
    },
    {
      "cell_type": "code",
      "execution_count": null,
      "metadata": {
        "id": "rF11JG5X_Xf-",
        "outputId": "39786477-28e1-49c1-e0b9-f0b830ceadaa",
        "colab": {
          "base_uri": "https://localhost:8080/"
        }
      },
      "outputs": [
        {
          "output_type": "execute_result",
          "data": {
            "text/plain": [
              "[0, 2, 4, 6, 8]"
            ]
          },
          "metadata": {},
          "execution_count": 28
        }
      ],
      "source": [
        "my_list[::2]"
      ]
    },
    {
      "cell_type": "code",
      "execution_count": null,
      "metadata": {
        "id": "VDOu5fO3_Xf-"
      },
      "outputs": [],
      "source": [
        "# .sort()\n",
        "my_list2 = [45,1,23,9,23,100,4,567]\n",
        "my_list2.sort(reverse=True)"
      ]
    },
    {
      "cell_type": "code",
      "execution_count": null,
      "metadata": {
        "id": "iRQSxuIj_Xf-",
        "outputId": "701ae793-27a4-44ba-819c-9b555b9be9bc",
        "colab": {
          "base_uri": "https://localhost:8080/"
        }
      },
      "outputs": [
        {
          "output_type": "execute_result",
          "data": {
            "text/plain": [
              "[567, 100, 45, 23, 23, 9, 4, 1]"
            ]
          },
          "metadata": {},
          "execution_count": 30
        }
      ],
      "source": [
        "my_list2"
      ]
    },
    {
      "cell_type": "code",
      "execution_count": null,
      "metadata": {
        "id": "NxXHdI3T_Xf_"
      },
      "outputs": [],
      "source": [
        "my_list2.reverse()"
      ]
    },
    {
      "cell_type": "code",
      "execution_count": null,
      "metadata": {
        "id": "WN3I1itL_Xf_",
        "outputId": "9cd27c83-238c-4166-f7fc-a7eca7c280bf",
        "colab": {
          "base_uri": "https://localhost:8080/"
        }
      },
      "outputs": [
        {
          "output_type": "execute_result",
          "data": {
            "text/plain": [
              "[1, 4, 9, 23, 23, 45, 100, 567]"
            ]
          },
          "metadata": {},
          "execution_count": 32
        }
      ],
      "source": [
        "my_list2"
      ]
    },
    {
      "cell_type": "code",
      "execution_count": null,
      "metadata": {
        "id": "bIoQJa5Z_Xf_",
        "outputId": "9b08eebf-56cf-4c40-97b5-627254ffec22",
        "colab": {
          "base_uri": "https://localhost:8080/"
        }
      },
      "outputs": [
        {
          "output_type": "execute_result",
          "data": {
            "text/plain": [
              "[1, 4, 9, 23, 23, 45, 100, 567]"
            ]
          },
          "metadata": {},
          "execution_count": 33
        }
      ],
      "source": [
        "my_list2"
      ]
    },
    {
      "cell_type": "code",
      "execution_count": null,
      "metadata": {
        "id": "q6eJF9BH_XgA"
      },
      "outputs": [],
      "source": [
        "my_list3 = [\"adi\",\"zack\",'cloud','leon']\n",
        "my_list3.sort()"
      ]
    },
    {
      "cell_type": "code",
      "execution_count": null,
      "metadata": {
        "id": "I7ixSbv6_XgA",
        "outputId": "372bca73-da7f-4d92-e3e2-ebfaf7807513",
        "colab": {
          "base_uri": "https://localhost:8080/"
        }
      },
      "outputs": [
        {
          "output_type": "execute_result",
          "data": {
            "text/plain": [
              "['adi', 'cloud', 'leon', 'zack']"
            ]
          },
          "metadata": {},
          "execution_count": 35
        }
      ],
      "source": [
        "my_list3"
      ]
    },
    {
      "cell_type": "code",
      "execution_count": null,
      "metadata": {
        "id": "xZw2bxw3_XgA",
        "outputId": "08b848e7-084e-40d5-d1b2-d5cbc3f1e9ac",
        "colab": {
          "base_uri": "https://localhost:8080/"
        }
      },
      "outputs": [
        {
          "output_type": "execute_result",
          "data": {
            "text/plain": [
              "True"
            ]
          },
          "metadata": {},
          "execution_count": 36
        }
      ],
      "source": [
        "# is in \n",
        "\"leon\" in my_list3"
      ]
    },
    {
      "cell_type": "code",
      "execution_count": null,
      "metadata": {
        "id": "F2S1HVCB_XgB",
        "outputId": "baa19702-ce4d-45da-c5b9-6b47a5daedcd",
        "colab": {
          "base_uri": "https://localhost:8080/"
        }
      },
      "outputs": [
        {
          "output_type": "execute_result",
          "data": {
            "text/plain": [
              "False"
            ]
          },
          "metadata": {},
          "execution_count": 37
        }
      ],
      "source": [
        "99 in my_list2"
      ]
    },
    {
      "cell_type": "code",
      "execution_count": null,
      "metadata": {
        "id": "qtyIa2hV_XgB",
        "outputId": "b911078b-c19a-420e-a64e-c4f67b08e7f1",
        "colab": {
          "base_uri": "https://localhost:8080/"
        }
      },
      "outputs": [
        {
          "output_type": "execute_result",
          "data": {
            "text/plain": [
              "[1, 4, 9, 23, 23, 45, 100, 567]"
            ]
          },
          "metadata": {},
          "execution_count": 38
        }
      ],
      "source": [
        "my_list2"
      ]
    },
    {
      "cell_type": "code",
      "execution_count": null,
      "metadata": {
        "id": "DyU2vdCk_XgB",
        "outputId": "32bd11f9-0aef-4259-a050-f1e9d7e494bd",
        "colab": {
          "base_uri": "https://localhost:8080/"
        }
      },
      "outputs": [
        {
          "output_type": "execute_result",
          "data": {
            "text/plain": [
              "6"
            ]
          },
          "metadata": {},
          "execution_count": 39
        }
      ],
      "source": [
        "#.index()\n",
        "my_list2.index(100)"
      ]
    },
    {
      "cell_type": "code",
      "execution_count": null,
      "metadata": {
        "id": "p-TC2o2A_XgC"
      },
      "outputs": [],
      "source": [
        "my_list2.append(19)"
      ]
    },
    {
      "cell_type": "code",
      "execution_count": null,
      "metadata": {
        "id": "fAQPF1tU_XgJ",
        "outputId": "141147e9-0bbb-46a0-be38-f63c2fe2d05f",
        "colab": {
          "base_uri": "https://localhost:8080/"
        }
      },
      "outputs": [
        {
          "output_type": "execute_result",
          "data": {
            "text/plain": [
              "[1, 4, 9, 23, 23, 45, 100, 567, 19]"
            ]
          },
          "metadata": {},
          "execution_count": 41
        }
      ],
      "source": [
        "my_list2"
      ]
    },
    {
      "cell_type": "code",
      "execution_count": null,
      "metadata": {
        "id": "rMAVAob4_XgJ",
        "outputId": "ea161dec-814e-44cb-9b6d-14089b78967f",
        "colab": {
          "base_uri": "https://localhost:8080/"
        }
      },
      "outputs": [
        {
          "output_type": "execute_result",
          "data": {
            "text/plain": [
              "['A', 'B', 'C', 'D', 'E', 'F', 'G', 'H', 'I', 'J', 'K']"
            ]
          },
          "metadata": {},
          "execution_count": 42
        }
      ],
      "source": [
        "# split()\n",
        "\"A B C D E F G H I J K\".split(\" \")"
      ]
    },
    {
      "cell_type": "markdown",
      "metadata": {
        "id": "PziRg510_XgK"
      },
      "source": [
        "## Control Flow"
      ]
    },
    {
      "cell_type": "markdown",
      "metadata": {
        "id": "R2dh0p7j_XgK"
      },
      "source": [
        "### If-else"
      ]
    },
    {
      "cell_type": "code",
      "execution_count": null,
      "metadata": {
        "id": "9KJzs4gv_XgL",
        "outputId": "a56ae9f2-957d-434c-c1c9-c0528e4859c1",
        "colab": {
          "base_uri": "https://localhost:8080/"
        }
      },
      "outputs": [
        {
          "output_type": "stream",
          "name": "stdout",
          "text": [
            "-1\n",
            "a is a negative number\n",
            "This string is outside the else-if statement\n"
          ]
        }
      ],
      "source": [
        "a = int(input())\n",
        "if a > 0 :\n",
        "    print(\"a is a positive number\")\n",
        "elif a == 0 :\n",
        "    print(\"a is equal to zero\")\n",
        "else :\n",
        "    print(\"a is a negative number\")\n",
        "    \n",
        "print(\"This string is outside the else-if statement\")"
      ]
    },
    {
      "cell_type": "markdown",
      "metadata": {
        "id": "ElW4WHlQ_XgL"
      },
      "source": [
        "### For Loops"
      ]
    },
    {
      "cell_type": "code",
      "execution_count": null,
      "metadata": {
        "id": "HxyAX7y7_XgM",
        "outputId": "49ba36d1-a8ce-4157-c5de-4dfb49f98441",
        "colab": {
          "base_uri": "https://localhost:8080/"
        }
      },
      "outputs": [
        {
          "output_type": "execute_result",
          "data": {
            "text/plain": [
              "[1, 4, 9, 23, 23, 45, 100, 567, 19]"
            ]
          },
          "metadata": {},
          "execution_count": 46
        }
      ],
      "source": [
        "my_list2"
      ]
    },
    {
      "cell_type": "code",
      "execution_count": null,
      "metadata": {
        "id": "ehRWEGr__XgM",
        "outputId": "d9dfba98-fc25-41ac-f8cd-cc7cc137be1e",
        "colab": {
          "base_uri": "https://localhost:8080/"
        }
      },
      "outputs": [
        {
          "output_type": "execute_result",
          "data": {
            "text/plain": [
              "9"
            ]
          },
          "metadata": {},
          "execution_count": 47
        }
      ],
      "source": [
        "len(my_list2)"
      ]
    },
    {
      "cell_type": "code",
      "execution_count": null,
      "metadata": {
        "id": "RUPR4PbY_XgM",
        "outputId": "452fe936-174e-4be3-b70a-7d1b375bc21a",
        "colab": {
          "base_uri": "https://localhost:8080/"
        }
      },
      "outputs": [
        {
          "output_type": "stream",
          "name": "stdout",
          "text": [
            "H e l l o "
          ]
        }
      ],
      "source": [
        "ha =\"Hello\"\n",
        "for a in ha:\n",
        "    print(a, end=\" \")"
      ]
    },
    {
      "cell_type": "code",
      "execution_count": null,
      "metadata": {
        "id": "JUzY4k_Y_XgN",
        "outputId": "192723d2-2dcd-4549-eaee-d4b559d714f6",
        "colab": {
          "base_uri": "https://localhost:8080/"
        }
      },
      "outputs": [
        {
          "output_type": "stream",
          "name": "stdout",
          "text": [
            "1\n",
            "4\n",
            "9\n",
            "23\n",
            "23\n",
            "45\n",
            "100\n",
            "567\n",
            "19\n"
          ]
        }
      ],
      "source": [
        "for a in my_list2:\n",
        "    print(a)"
      ]
    },
    {
      "cell_type": "code",
      "execution_count": null,
      "metadata": {
        "id": "hbmHuyzK_XgN",
        "outputId": "6e3f25b4-e191-48f8-ebd5-379344bc22bf",
        "colab": {
          "base_uri": "https://localhost:8080/"
        }
      },
      "outputs": [
        {
          "output_type": "stream",
          "name": "stdout",
          "text": [
            "I am sorry\n",
            "I am sorry\n",
            "I am sorry\n",
            "I am sorry\n",
            "I am sorry\n",
            "I am sorry\n",
            "I am sorry\n",
            "I am sorry\n",
            "I am sorry\n"
          ]
        }
      ],
      "source": [
        "for a in my_list2 :\n",
        "    print(\"I am sorry\")"
      ]
    },
    {
      "cell_type": "code",
      "execution_count": null,
      "metadata": {
        "id": "FpgF7qSV_XgO",
        "outputId": "f8a8545b-fe36-4498-cae8-5a46b2517e67",
        "colab": {
          "base_uri": "https://localhost:8080/"
        }
      },
      "outputs": [
        {
          "output_type": "execute_result",
          "data": {
            "text/plain": [
              "[0, 2, 4, 6, 8, 10, 12, 14, 16, 18]"
            ]
          },
          "metadata": {},
          "execution_count": 51
        }
      ],
      "source": [
        "list(range(0,20,2))"
      ]
    },
    {
      "cell_type": "code",
      "execution_count": null,
      "metadata": {
        "id": "XDC_bPtN_XgO",
        "outputId": "63579e5c-da69-49d2-a816-0462a819de68",
        "colab": {
          "base_uri": "https://localhost:8080/"
        }
      },
      "outputs": [
        {
          "output_type": "execute_result",
          "data": {
            "text/plain": [
              "[0, 1, 2, 3, 4, 5, 6, 7, 8, 9]"
            ]
          },
          "metadata": {},
          "execution_count": 52
        }
      ],
      "source": [
        "list(range(10))"
      ]
    },
    {
      "cell_type": "code",
      "execution_count": null,
      "metadata": {
        "id": "WX02lESx_XgP",
        "outputId": "b39e3a67-e2cb-42dd-f1df-df4d76b07b09",
        "colab": {
          "base_uri": "https://localhost:8080/"
        }
      },
      "outputs": [
        {
          "output_type": "stream",
          "name": "stdout",
          "text": [
            "0\n",
            "2\n",
            "6\n",
            "12\n",
            "20\n",
            "30\n",
            "42\n",
            "56\n",
            "72\n",
            "90\n",
            "110\n",
            "132\n",
            "156\n",
            "182\n",
            "210\n",
            "240\n",
            "272\n",
            "306\n",
            "342\n",
            "380\n",
            "380\n"
          ]
        }
      ],
      "source": [
        "\n",
        "for a in range(20) :\n",
        "    a += a**2\n",
        "    print(a)\n",
        "print(a)"
      ]
    },
    {
      "cell_type": "code",
      "execution_count": null,
      "metadata": {
        "id": "jibX6oRw_XgP",
        "outputId": "97557238-f5c9-4e9c-b195-1382f6aee675",
        "colab": {
          "base_uri": "https://localhost:8080/"
        }
      },
      "outputs": [
        {
          "output_type": "stream",
          "name": "stdout",
          "text": [
            "2\n",
            "4\n",
            "6\n",
            "9\n"
          ]
        }
      ],
      "source": [
        "# break statement\n",
        "my_list4 = [2,4,6,9,8,10,7,66,44,22]\n",
        "for x in my_list4 :\n",
        "    print(x)\n",
        "    if x%2 == 1 :\n",
        "        break"
      ]
    },
    {
      "cell_type": "code",
      "execution_count": null,
      "metadata": {
        "id": "ban0QmaS_XgP",
        "outputId": "7a3af0fb-bbf9-4de9-addf-c836f694f005",
        "colab": {
          "base_uri": "https://localhost:8080/"
        }
      },
      "outputs": [
        {
          "output_type": "stream",
          "name": "stdout",
          "text": [
            "2 4 6 8 10 66 44 22 "
          ]
        }
      ],
      "source": [
        "# continue\n",
        "for x in my_list4:\n",
        "    if x%2 == 1:\n",
        "        continue\n",
        "    print(x, end=\" \")"
      ]
    },
    {
      "cell_type": "markdown",
      "metadata": {
        "id": "Zs2TPYQc_XgQ"
      },
      "source": [
        "### While Loops"
      ]
    },
    {
      "cell_type": "code",
      "execution_count": null,
      "metadata": {
        "id": "KafvOMwl_XgQ",
        "outputId": "aa8d3a76-8b48-4772-9350-223d255d0c7f",
        "colab": {
          "base_uri": "https://localhost:8080/"
        }
      },
      "outputs": [
        {
          "output_type": "stream",
          "name": "stdout",
          "text": [
            "0 1 2 3 4 5 6 7 8 9 "
          ]
        }
      ],
      "source": [
        "i = 0\n",
        "while i<10 :\n",
        "    print(i, end=\" \")\n",
        "    i += 1"
      ]
    },
    {
      "cell_type": "markdown",
      "metadata": {
        "id": "ICPgQQSW_XgR"
      },
      "source": [
        "## Functions"
      ]
    },
    {
      "cell_type": "code",
      "source": [
        "def luassegitiga(x,y):\n",
        "  return (x*y)/2\n",
        "a=10; b=5\n",
        "print(luassegitiga(a,b))"
      ],
      "metadata": {
        "colab": {
          "base_uri": "https://localhost:8080/"
        },
        "id": "TdXTt9Qn97q_",
        "outputId": "c3b31226-0c32-485d-ef46-9850a394dbe9"
      },
      "execution_count": null,
      "outputs": [
        {
          "output_type": "stream",
          "name": "stdout",
          "text": [
            "25.0\n"
          ]
        }
      ]
    },
    {
      "cell_type": "code",
      "execution_count": null,
      "metadata": {
        "id": "oSmOZmHl_XgR",
        "outputId": "61e7d1a2-351b-4efc-a8a5-3f6ef5303d0e",
        "colab": {
          "base_uri": "https://localhost:8080/"
        }
      },
      "outputs": [
        {
          "output_type": "stream",
          "name": "stdout",
          "text": [
            "121\n"
          ]
        }
      ],
      "source": [
        "def f(x=10): \n",
        "  ''' Ini merupakan contoh fungsi '''\n",
        "  return x**2 + 2*x + 1\n",
        "#a = f(10)\n",
        "print(f())\n"
      ]
    },
    {
      "cell_type": "code",
      "source": [
        "f(11)"
      ],
      "metadata": {
        "colab": {
          "base_uri": "https://localhost:8080/"
        },
        "id": "uW2wNxDu_T8C",
        "outputId": "668405d5-53bc-4db1-f218-4677c0c0ac38"
      },
      "execution_count": null,
      "outputs": [
        {
          "output_type": "execute_result",
          "data": {
            "text/plain": [
              "144"
            ]
          },
          "metadata": {},
          "execution_count": 59
        }
      ]
    },
    {
      "cell_type": "code",
      "execution_count": null,
      "metadata": {
        "id": "plJrzUFe_XgR",
        "outputId": "1da5f384-eae4-4539-86e9-ebf5158a1ca9",
        "colab": {
          "base_uri": "https://localhost:8080/"
        }
      },
      "outputs": [
        {
          "output_type": "stream",
          "name": "stdout",
          "text": [
            "Nama saya Tom saya berumur 25 tahun\n"
          ]
        }
      ],
      "source": [
        "def identitas(nama, umur) :\n",
        "    print(\"Nama saya\"+\" \"+nama+\" \"+\"saya berumur\"+\" \"+str(umur)+\" \"+\"tahun\")\n",
        "identitas(\"Tom\",25)"
      ]
    }
  ],
  "metadata": {
    "kernelspec": {
      "display_name": "Python 3",
      "language": "python",
      "name": "python3"
    },
    "language_info": {
      "codemirror_mode": {
        "name": "ipython",
        "version": 3
      },
      "file_extension": ".py",
      "mimetype": "text/x-python",
      "name": "python",
      "nbconvert_exporter": "python",
      "pygments_lexer": "ipython3",
      "version": "3.8.8"
    },
    "colab": {
      "provenance": []
    }
  },
  "nbformat": 4,
  "nbformat_minor": 0
}